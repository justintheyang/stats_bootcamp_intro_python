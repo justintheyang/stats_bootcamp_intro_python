{
 "cells": [
  {
   "cell_type": "markdown",
   "metadata": {},
   "source": [
    "# Fundamental Python - Variables\n",
    "\n",
    "This tutorial is based on Russ Poldrack's PythonForRUsers tutorials and is adpated to a Python-only tutorial by Shao-Fang Wang (2020) and updated by Ben Prystawski (2022).  \n",
    "\n",
    "Many people have contributed to developing and revising the R tutorial material (which is what this Python tutorial is based on) over the years: \n",
    "Anna Khazenzon, Cayce Hook, Paul Thibodeau, Mike Frank, Benoit Monin, Ewart Thomas, Michael Waskom, Steph Gagnon, Dan Birman, Natalia Velez, Kara Weisman, Andrew Lampinen, Joshua Morris, Yochai Shavit, Jackie Schwartz, Arielle Keller, Leili Mortazavi.    "
   ]
  },
  {
   "cell_type": "markdown",
   "metadata": {},
   "source": [
    "### What is Python? What is Jupyter lab?\n",
    "[Python](https://www.python.org/) is an interpreted, high-level programming language. Python was first released in 1991 by developer Guido Van Rossum. Python is widely used by programmers because of its versatile features and fewer programming codes. Python 3.0, releated in 2008, was a major revision of the language and is not completely backward-compatible. Python 2 was officially discontinued in 2020: no more improvements will be released for it. Therefore, we will use Python 3 throughout this tutorial. \n",
    "\n",
    "You can use Python for developing applications, websites, and analyzing data. Some of Python's advantages: \n",
    "* Python is freely usable and distributable, even for commercial use. \n",
    "* Python emphasizes code readability\n",
    "* Python has a large and robust standard library\n",
    "\n",
    "[Jupyter lab](https://jupyter.readthedocs.io/en/latest/index.html) is an open-source computational notebook that allows you to create and share documents that contain inputs and outputs of an interactive session. Notebook files can serve as a complete computational record of a session, interleaving executable code with explanatory text, mathematics, and representations of resulting objects. The notebook documents are saved with the `.ipynb` extension. Notebooks can be exported to a range of static formats, including HTML, PDF, and LaTeX. \n",
    "\n",
    "### What am I doing? Why?\n",
    "Your basic goal when you're working with data in Jupyter notebooks is to write out a **script** that documents and executes every step of your interaction with your data, via lines of **Python code**. You can then run this code in the **code cell**, either bit by bit (starting from the top, and working your way down) or all at once.  \n",
    "Your script will ultimately include every step of data processing and analysis:  \n",
    "* __Formatting datasets__ (e.g., making new variables based on other variables in your dataset, isolating subsets of your dataset, comparing different datasets, ...)  \n",
    "* __Making plots__   \n",
    "* __Summarising results__ (e.g., finding means, assessing variability and distributions, ...)  \n",
    "* __Running statistical analyses__ (e.g., t-tests, chi-squared tests, regressions, ...)\n",
    "\n",
    "Your script should also include some notes about what you're doing, for future reference. One of the best ways to do this is by creating a Jupyter notebook document, like this one, where you can include both prose (like this current paragraph) and code. This has so many advantages over other ways of analyzing data!\n",
    "\n",
    "* You have a record for yourself - forever! - for working on analyses over time, quickly analyzing similar new datasets, and reconstructing abandoned projects\n",
    "* You can automate as much of the data processing, analysis, plotting, and even reporting process as you want to, saving you from copying and pasting and making stupid mistakes   \n",
    "* You can easily give your script to other people as a guide for them to understand or help you with your analyses,  build on your findings, reanalyze your data, attempt to replicate your studies, etc.  \n",
    "* You can use version control on your analysis code (e.g., using [github](https://github.com/)),  make your own functions and packages tailored to your own projects and needs, make web apps for visualizing your data. \n"
   ]
  },
  {
   "cell_type": "markdown",
   "metadata": {},
   "source": [
    "### Okay but where am I? Where is my dataset?  \n",
    "\n",
    "First, we need to start the notebook. There are two ways to start the notebook:\n",
    "1. start the notebook server from the command line: `ipython notebook`\n",
    "2. start the notebook server from Anaconda: launch Anaconda Nvigator --> Find the \"Notebook\" tab and click on the \"Launch\" button\n",
    "\n",
    "After you launch the notebook, you should see the Notebook Dashboard. The Notebook Dashboard shows a list of the notebooks, files, and subdirectories in the directory where the notebook server was started. Therefore, you may want to start a notebook server in the highest level directory containing notebooks. This is usually your home directory.\n",
    "\n",
    "#### Creating a new notebook document\n",
    "You can create a new notebook using the File > New menu option from within an active notebook. The new notebook is created within the same directory and will open in a new browser tab. "
   ]
  },
  {
   "cell_type": "code",
   "execution_count": null,
   "metadata": {},
   "outputs": [],
   "source": [
    "from IPython.display import Image\n",
    "Image(filename='./figures/new-notebook.gif.png') "
   ]
  },
  {
   "cell_type": "markdown",
   "metadata": {},
   "source": [
    "#### Opening notebooks\n",
    "An open notebook has exactly one interactive session connected to a kernel, which will execute code sent by the user and communicate back results. This kernel remains active if the web browser window is closed, and reopening the same notebook from the dashboard will reconnect the web application to the same kernel. In the dashboard, notebooks with an active kernel have a `Shutdown` button next to them, whereas notebooks without an active kernel have a `Delete` button in its place."
   ]
  },
  {
   "cell_type": "code",
   "execution_count": null,
   "metadata": {},
   "outputs": [],
   "source": [
    "Image(filename='./figures/jupyter_shutdown.png') "
   ]
  },
  {
   "cell_type": "markdown",
   "metadata": {},
   "source": [
    "#### Notebook user interface\n",
    "* Notebook name: The name displayed at the top of the page reflects the name of the `.ipynb` file.   \n",
    "* Menu bar: The menu bar presents different options that may be used to manipulate the way the notebook functions.  \n",
    "* Toolbar: The tool bar gives a quick way of performing the most-used operations within the notebook, by clicking on an icon.  \n",
    "* Code cell: the default type of cell; read on for an explanation of cells.\n",
    "    - A cell's contents can be executed by using Shift-Enter, or by clicking either the “Play” button the toolbar, or Cell, Run in the menu bar. The execution behavior of a cell is determined by the cell’s type. There are three types of cells: code cells, markdown cells, and raw cells. \n",
    "    - A code cell allows you to edit and write new code, with full syntax highlighting and tab completion. The programming language you use depends on the kernel, and the default kernel (IPython) runs Python code."
   ]
  },
  {
   "cell_type": "code",
   "execution_count": null,
   "metadata": {},
   "outputs": [],
   "source": [
    "Image(filename='./figures/blank-notebook-ui.png') "
   ]
  },
  {
   "cell_type": "markdown",
   "metadata": {},
   "source": [
    "## Basic interaction with the Jupyter notebook\n",
    "### Using Python as a caculator\n",
    "You can treat Python like a calculator for basic computations. Just type some mathematical expression into a code cell and hit `shift`+`enter` (or `ctrl`+`enter` if you don't want your cursor to move to the next cell).   \n",
    "The result will be displayed below the code cell. In an `.ipynb` file (like this one) lines of code typically appear within ___\"chunks\"___ - grey boxes that typically correspond to one \"large\" thing you are trying to do (e.g- \"clean data\" or \"Test hypothesis 1\"). You can enter \"comments\" (lines of text explaining to yourself/other people who might see your code what's going on) by starting a line with a pound sign (\"#\"). The line will then be colored green and Python will treat whatever comes after it as a text. It is highly recommended to comment your code often."
   ]
  },
  {
   "cell_type": "code",
   "execution_count": null,
   "metadata": {},
   "outputs": [],
   "source": [
    "# Run the lines of code below- \n",
    "# Do this with every chunk of code in this tutorial, and try to predict \n",
    "# what the result of running this line of code will be before hand.\n",
    "1+2"
   ]
  },
  {
   "cell_type": "code",
   "execution_count": null,
   "metadata": {},
   "outputs": [],
   "source": [
    "print(2 ** 6 )\n",
    "print(5 * (2 + 3))\n",
    "print(5/2)"
   ]
  },
  {
   "cell_type": "code",
   "execution_count": null,
   "metadata": {},
   "outputs": [],
   "source": [
    "#What is // and %?\n",
    "print(30//7)\n",
    "print(33%8)\n",
    "#Try a few more here "
   ]
  },
  {
   "cell_type": "code",
   "execution_count": null,
   "metadata": {},
   "outputs": [],
   "source": [
    "# Write a mathematical expression with at least three numbers\n",
    "\n",
    "\n",
    "# Write a mathematical expression with different operations\n",
    "\n",
    "\n"
   ]
  },
  {
   "cell_type": "markdown",
   "metadata": {},
   "source": [
    "**Where do the numbers go?**  \n",
    "When you evaluate an expression like `1 + 2` in the console, the result is displayed on the screen but doesn't get saved anywhere-- just like on an ordinary calculator. Of course, Python is a programming language, so it is much more powerful than a basic calculator. A major aspect of computing with Python involves the assignment of values to *variables.*  "
   ]
  },
  {
   "cell_type": "markdown",
   "metadata": {},
   "source": [
    "### Variables Assignment\n",
    "Variables are names for values. In Python, we use `=` symbol to assign the value on the right to the name on the left. "
   ]
  },
  {
   "cell_type": "code",
   "execution_count": null,
   "metadata": {},
   "outputs": [],
   "source": [
    "a = 1\n",
    "a+2"
   ]
  },
  {
   "cell_type": "markdown",
   "metadata": {},
   "source": [
    "You should see `cohort_size` is now one of these objects the computer is keeping track of, and its value is `11`. It will remain stored as `11` unless and until you reassign `cohort_size`. We can use `print` function to print outputs as text. \n",
    "\n"
   ]
  },
  {
   "cell_type": "code",
   "execution_count": null,
   "metadata": {},
   "outputs": [],
   "source": [
    "cohort_size = 13\n",
    "print(cohort_size)"
   ]
  },
  {
   "cell_type": "markdown",
   "metadata": {},
   "source": [
    "What value is `cohort_size` set to now? After running this line of code, type `print(cohort_size)` into the code cell and run it. "
   ]
  },
  {
   "cell_type": "code",
   "execution_count": null,
   "metadata": {},
   "outputs": [],
   "source": [
    "cohort_size+2"
   ]
  },
  {
   "cell_type": "code",
   "execution_count": null,
   "metadata": {},
   "outputs": [],
   "source": [
    "# CHECK YOUR UNDERSTANDING: \n",
    "# What value is `a` set to after running each line of this code?\n",
    "# What value is `b` set to after running each line?\n",
    "\n",
    "a = 2\n",
    "b = 2\n",
    "\n",
    "a+2\n",
    "a+2\n",
    "a+2\n",
    "\n",
    "\n",
    "\n",
    "\n",
    "b = b+2\n",
    "b = b+2\n",
    "\n"
   ]
  },
  {
   "cell_type": "markdown",
   "metadata": {},
   "source": [
    "**Variables Persist Between Cells**  \n",
    "Be aware that it is the order of execution of cells that is important in a Jupyter notebook, not the order in which they appear. Python will remember all the code that was run previously, including any variables you have defined, irrespective of the order in the notebook. "
   ]
  },
  {
   "cell_type": "markdown",
   "metadata": {},
   "source": [
    "After assigning variables, we can now use them in calculations:"
   ]
  },
  {
   "cell_type": "code",
   "execution_count": null,
   "metadata": {},
   "outputs": [],
   "source": [
    "devo = 2\n",
    "affective = 4\n",
    "cog = 0\n",
    "social = 3\n",
    "neuro = 4\n",
    "cohort_size = devo + affective + cog + social + neuro \n",
    "\n",
    "print(cohort_size)"
   ]
  },
  {
   "cell_type": "code",
   "execution_count": null,
   "metadata": {},
   "outputs": [],
   "source": [
    "# Of course, we can do completely arbitrary calculations with any\n",
    "# of our variables too--Python will oblige:\n",
    "apples = (social * \n",
    "             (cog - neuro)^3 +\n",
    "             social * devo + \n",
    "             cohort_size + 12) / (cog - affective)\n",
    "oranges = -(3^2)\n",
    "apples == oranges "
   ]
  },
  {
   "cell_type": "code",
   "execution_count": null,
   "metadata": {},
   "outputs": [],
   "source": [
    "#What values do the variables mass and age have after each statement in the following program?\n",
    "mass = 47.5\n",
    "age = 122\n",
    "mass = mass * 2.0\n",
    "age = age - 20\n"
   ]
  },
  {
   "cell_type": "markdown",
   "metadata": {},
   "source": [
    "So far we've only been dealing with numbers, but there are other data types as well.\n",
    "For instance, we could assign character (aka string) values, with either single quotation marks, or double quotation marks:"
   ]
  },
  {
   "cell_type": "code",
   "execution_count": null,
   "metadata": {},
   "outputs": [],
   "source": [
    "cohort_size = \"average\"\n",
    "stanford_phone = \"6507232300\" \n"
   ]
  },
  {
   "cell_type": "markdown",
   "metadata": {},
   "source": [
    "Each position in the string (first, second, etc.) is given a number. This number is called an **index**. You can return characters by putting the position's index in `[]`. Furthermore, we can take a slice by using `[start:stop]`, where start is replaced with the index of the first element we want and stop is replaced with the index of the element just after the last element we want.\n",
    "\n",
    "**Indices are numbered from 0**  \n",
    "This might seem weird, but it is actually the way that most general-purpose programming languages perform indexing, and there are good theorietical reasons for it.  For example, see discussion here: https://developeronline.blogspot.com/2008/04/why-array-index-should-start-from-0.html\n"
   ]
  },
  {
   "cell_type": "code",
   "execution_count": null,
   "metadata": {},
   "outputs": [],
   "source": [
    "print(stanford_phone[0])\n",
    "#Use negative indexes to start the slice from the end of the string:\n",
    "stanford_phone[-2]\n",
    "stanford_phone[3:10]"
   ]
  },
  {
   "cell_type": "markdown",
   "metadata": {},
   "source": [
    "We can also construct strings using existing variables. We do this by putting an `f` in front of the string and surrounding the variable we want to insert with braces, { }"
   ]
  },
  {
   "cell_type": "code",
   "execution_count": null,
   "metadata": {},
   "outputs": [],
   "source": [
    "f_string = f\"The age we computed earlier is {age} and Stanford's phone number is {stanford_phone}\"\n",
    "print(f_string)"
   ]
  },
  {
   "cell_type": "markdown",
   "metadata": {},
   "source": [
    "We can also assign logical values, True and False:"
   ]
  },
  {
   "cell_type": "code",
   "execution_count": null,
   "metadata": {},
   "outputs": [],
   "source": [
    "alive = True\n",
    "asleep = False\n",
    "\n",
    "print(alive, asleep)"
   ]
  },
  {
   "cell_type": "markdown",
   "metadata": {},
   "source": [
    "**Comparison operators**  \n",
    "In case you're wondering, you test for equality with two equal signs (`==`), which you should read as ('is equal to'). It does something completely different than `=`:"
   ]
  },
  {
   "cell_type": "code",
   "execution_count": null,
   "metadata": {},
   "outputs": [],
   "source": [
    "print(2 == 2, 2 == 3)\n",
    "print(cohort_size == \"average\", cohort_size == \"small\")"
   ]
  },
  {
   "cell_type": "markdown",
   "metadata": {},
   "source": [
    "While we're at it, you can also compare numbers with `>`, `<`, `!=`, `<=`, and `>=`, which return True or False as well. You can also use `is` to compare object identity\n",
    "(i.e. whether two objects have the same ID memory address.)"
   ]
  },
  {
   "cell_type": "code",
   "execution_count": null,
   "metadata": {},
   "outputs": [],
   "source": [
    "print(2 < 3,3 <= 3,3 != 4, cohort_size is stanford_phone) #note: the sign \"!=\" means \"not equal to\""
   ]
  },
  {
   "cell_type": "code",
   "execution_count": null,
   "metadata": {},
   "outputs": [],
   "source": [
    "# APPLY YOUR KNOWLEDGE:\n",
    "# Can you explain what's happening at each line of code below?\n",
    "a = 10\n",
    "b = 20\n",
    "a = b\n",
    "print(a)\n",
    "a = \"b\"\n",
    "print(a)\n",
    "a = 10\n",
    "a < b\n",
    "\n",
    "\n"
   ]
  },
  {
   "cell_type": "markdown",
   "metadata": {},
   "source": [
    "**Mutable and Immutable**  \n",
    "For most general-purpose programming languages, a variable is treated as a pointer to a place in memory. Therefore, when we say `b=a` in Python, these two varaibles become pointers to the same place in memory. The content of the variables can be changed after it is created. We called it \"mutable\". In Python, some variables are mutable by default (list, dict, and set).\n",
    "\n",
    "We can use an inbuilt function `id()` to check an object's memory address. The function accepts a single parameter and returns the identity of an object. This identity has to be unique and constant for this object during the lifetime.\n",
    "\n",
    "You can use an inbuilt function `type()` to check what type of variable the object is."
   ]
  },
  {
   "cell_type": "code",
   "execution_count": null,
   "metadata": {},
   "outputs": [],
   "source": [
    "a = [1, 2, 3]   # create a variable\n",
    "b = a  # assign it to a new variable\n",
    "b.append(4) # add an entry to the new variable using .append()\n",
    "\n",
    "print('a: ',a,'\\nb: ',b)\n",
    "print('ID for a: ',id(a), '\\nID for b: ', id(b))#use \\n to change line\n",
    "type(a)"
   ]
  },
  {
   "cell_type": "markdown",
   "metadata": {},
   "source": [
    "You can see that after assigning a to b, both a and b have the same ID or \"memory address\". Therefore, when you add a new number to b, this action also adds a new number to a."
   ]
  },
  {
   "cell_type": "markdown",
   "metadata": {},
   "source": [
    "If we want Python to create a copy of a variable (so that changes to the new variable will not affect changes to the old one), we need to use the ```copy()``` operator:"
   ]
  },
  {
   "cell_type": "code",
   "execution_count": null,
   "metadata": {},
   "outputs": [],
   "source": [
    "a = [1, 2, 3]\n",
    "b = a.copy()#this is not modifying a; this is creating a new object\n",
    "b.append(4)\n",
    "print('a: ',a,'\\nb: ',b)\n",
    "print('ID for a: ',id(a), '\\nID for b: ', id(b))"
   ]
  },
  {
   "cell_type": "markdown",
   "metadata": {},
   "source": [
    "If a mutable object is called by reference in a function, the original variable may be changed. If you want to avoid changing the original variable, you need to copy it to another variable.\n"
   ]
  },
  {
   "cell_type": "markdown",
   "metadata": {},
   "source": [
    "Certain types of variables in Python are immutable. They are integer, float, string, tuple, bool, and frozenset. This means that, by default, the content of the variable can not be changed after it is created. "
   ]
  },
  {
   "cell_type": "code",
   "execution_count": null,
   "metadata": {},
   "outputs": [],
   "source": [
    "c = 9\n",
    "d = c\n",
    "d = d+1\n",
    "print('c: ',c,'\\nd: ',d)\n",
    "print('ID for c: ',id(c), '\\nID for d: ', id(d))\n",
    "type(d)"
   ]
  },
  {
   "cell_type": "markdown",
   "metadata": {},
   "source": [
    "You can see that after assigning c to d, c and d have different IDs or \"memory addresses\". After add 1 to d, this action does not change c. "
   ]
  },
  {
   "cell_type": "markdown",
   "metadata": {},
   "source": [
    "Immutability may be used to ensure that an object remains constant throughout your program. The values of mutable objects can be changed at any time and place, whether you expect it or not."
   ]
  },
  {
   "cell_type": "markdown",
   "metadata": {},
   "source": [
    "### Naming variables \n",
    "\n",
    "When writing code to perform analysis, you should use descriptive names. Code where things are named, `subject_id`, `condition`, and `rt` will make **much** more sense than 'v1', 'v2', and 'v3' when you read it again 4 months later as you write up the paper.\n",
    "\n",
    "There are a few additional rules for Python variable names. \n",
    "\n",
    "* A variable name cannot start with a number\n",
    "* A variable name can only contain alpha-numeric characters and underscores (A-z, 0-9, and _ )\n",
    "* Variable names are case-sensitive (age, Age and AGE are three different variables)"
   ]
  },
  {
   "cell_type": "code",
   "execution_count": null,
   "metadata": {},
   "outputs": [],
   "source": [
    "a = 10\n",
    "A = 12\n",
    "\n",
    "subid = 13\n",
    "subID = 26\n",
    "cohort_size='average'"
   ]
  },
  {
   "cell_type": "code",
   "execution_count": null,
   "metadata": {},
   "outputs": [],
   "source": [
    "#Can you predict the output of the following lines of code? Why do you think it doesn't work?\n",
    "#print(a == A)\n",
    "\n",
    "#print(subID == subid)\n"
   ]
  },
  {
   "cell_type": "markdown",
   "metadata": {},
   "source": [
    "Try typing `cohort_size == average` in the code cell. Does it work? Why or Why not?"
   ]
  },
  {
   "cell_type": "code",
   "execution_count": null,
   "metadata": {},
   "outputs": [],
   "source": [
    "\n",
    "#Failing to put quotation marks around a string will break your code. \n",
    "#(In this case, Python thinks you're talking about a different object called `average`, \n",
    "#and throws an error since you haven't defined any such object.)"
   ]
  },
  {
   "cell_type": "markdown",
   "metadata": {},
   "source": [
    "Now try `Cohort_size == \"average\"`. Does it work? Why or Why not?"
   ]
  },
  {
   "cell_type": "code",
   "execution_count": null,
   "metadata": {},
   "outputs": [],
   "source": [
    "# (In this case, Python looks for an object named `Cohort_size`,   \n",
    "# but of course from Python's point of view, only `cohort_size` exists.  \n",
    "# Small typos like this can cause a lot of frustration, so keep an eye out!)"
   ]
  },
  {
   "cell_type": "code",
   "execution_count": null,
   "metadata": {},
   "outputs": [],
   "source": [
    "cohort_neuro = 1\n",
    "cohort.devo = 2"
   ]
  },
  {
   "cell_type": "markdown",
   "metadata": {},
   "source": [
    "What's with the dot? It turns out that every variable in Python has various functions or other variables associated with it, and those are accessible using the dot. In Python, the functions associated with an object are called *methods* and the other variables associated with an object are called *attributes*. This means that the dot is special and you can't create regular variable names with a dot in them. We can see all of the functions and variables associated with a particular object using the `dir()` command."
   ]
  },
  {
   "cell_type": "code",
   "execution_count": null,
   "metadata": {},
   "outputs": [],
   "source": [
    "cohort_size = \"Average Cohort Size\"\n",
    "dir(cohort_size)\n"
   ]
  },
  {
   "cell_type": "markdown",
   "metadata": {},
   "source": [
    "You can see that this variable, which is a type of variable called a *list* in Python, has a bunch of different operators associated with it. If you want to know what each one of them does, you can place a question mark in front of it to get its help text:"
   ]
  },
  {
   "cell_type": "code",
   "execution_count": null,
   "metadata": {},
   "outputs": [],
   "source": [
    "?cohort_size.lower"
   ]
  },
  {
   "cell_type": "code",
   "execution_count": null,
   "metadata": {},
   "outputs": [],
   "source": [
    "#Find out what is .count and .split\n",
    "#Count the number of letter 'o' in the variable cohort_size\n",
    "\n",
    "\n",
    "\n",
    "\n",
    "\n",
    "\n",
    "\n"
   ]
  },
  {
   "cell_type": "markdown",
   "metadata": {},
   "source": [
    "You can also press `tab` to get suggestings of methods and attributes. For instance, try typing `cohort_size.` or `cohort_size.s` then pressing `tab`"
   ]
  },
  {
   "cell_type": "code",
   "execution_count": null,
   "metadata": {},
   "outputs": [],
   "source": [
    "# play around with tab completion here\n"
   ]
  },
  {
   "cell_type": "markdown",
   "metadata": {},
   "source": [
    "## Types of variables\n",
    "### Lists in Python\n",
    "\n",
    "In Python, a list is more like a data container that holds multiple objects in a specific order. In Python, lists are created by putting things inside of `[]`. Let's see this in action."
   ]
  },
  {
   "cell_type": "code",
   "execution_count": null,
   "metadata": {},
   "outputs": [],
   "source": [
    "my_list = [1, 2, 3, 4]\n",
    "print(my_list)"
   ]
  },
  {
   "cell_type": "markdown",
   "metadata": {},
   "source": [
    "Lists can hold objects of any type:"
   ]
  },
  {
   "cell_type": "code",
   "execution_count": null,
   "metadata": {},
   "outputs": [],
   "source": [
    "many_types = [1,5.55,'is this still a list?', True]\n",
    "print(many_types)"
   ]
  },
  {
   "cell_type": "markdown",
   "metadata": {},
   "source": [
    "Similar to string, each position in the list (first, second, etc.) is given a number. We can access elements of a list using `[index]` (this is sometimes called *subscript*). In Python we index the entries starting with zero: "
   ]
  },
  {
   "cell_type": "code",
   "execution_count": null,
   "metadata": {},
   "outputs": [],
   "source": [
    "my_list[0]\n",
    "my_list[3]\n",
    "#you can use negative numbers to index backwards\n",
    "my_list[-3]"
   ]
  },
  {
   "cell_type": "markdown",
   "metadata": {},
   "source": [
    "**Slicing**    \n",
    "A sub-list can be accessed using slice syntax."
   ]
  },
  {
   "cell_type": "code",
   "execution_count": null,
   "metadata": {},
   "outputs": [],
   "source": [
    "print(many_types[2:4]) # this will return elements at indices 2 and 3 from the original list\n",
    "print(many_types[2:]) # slice from an index to the end\n",
    "print(many_types[:2]) # slice from the beginning to a specified index\n",
    "\n",
    "\n",
    "#What about this: many_types[1:2:5]"
   ]
  },
  {
   "cell_type": "markdown",
   "metadata": {},
   "source": [
    "You can use the `+` operator to concatenate lists:\n"
   ]
  },
  {
   "cell_type": "code",
   "execution_count": null,
   "metadata": {},
   "outputs": [],
   "source": [
    "many_types + my_list"
   ]
  },
  {
   "cell_type": "code",
   "execution_count": null,
   "metadata": {},
   "outputs": [],
   "source": [
    "#APPLY YOUR KNOWLEDGE\n",
    "#Select the first 3 elements from list_1 and the last 4 elements from list_2 and concatenate them togehter\n",
    "list_1 = ['apple','apricots','cherries','cranberris']\n",
    "list_2 = ['blue','red','purple','teal','green','maroon','black']\n",
    "\n",
    "\n",
    "\n"
   ]
  },
  {
   "cell_type": "markdown",
   "metadata": {},
   "source": [
    "**Some useful list operations**   \n",
    "* `s.append(x)`: appends x to the end of the sequence\n",
    "* `s.extend(x)`: adds every element of x to s (x must be a list)\n",
    "* `s.count(x)`: total number of occurrences of x in s\n",
    "* `s.reverse()`: reverses the items of s in place\n",
    "* `x in s`: True if an item of s is equal to x, else False (also: x not in s)\n",
    "* `len(s)`; `min(s)`; `max(s)`\n",
    "* `sorted(s)`: returns a sorted version of s. You can also use `sorted(s, reverse=True)` to sort in reverse order\n",
    "\n",
    "Use `dir()` to check out more operations associate with list!"
   ]
  },
  {
   "cell_type": "markdown",
   "metadata": {},
   "source": [
    "### Dictionaries in Python\n",
    "\n",
    "A dictionary (also called a *hash table* or *associative array*) is a collection of key-value pairs. It maps hashable values to arbitrary objects. For example, the keys are names of fruits and their corresponding values are their price. \n",
    "* dictionaries are created with `{}`\n",
    "* *keys* and *values* are separated with a comma"
   ]
  },
  {
   "cell_type": "code",
   "execution_count": null,
   "metadata": {},
   "outputs": [],
   "source": [
    "my_dict = {'apple': 1.5,\n",
    "           'peach':  2.6,\n",
    "          'cherries': [1.5,2.5,3.4]}\n",
    "print(my_dict)"
   ]
  },
  {
   "cell_type": "markdown",
   "metadata": {},
   "source": [
    "To access the elements, we use the names of each field as an index."
   ]
  },
  {
   "cell_type": "code",
   "execution_count": null,
   "metadata": {},
   "outputs": [],
   "source": [
    "print(my_dict['apple'])"
   ]
  },
  {
   "cell_type": "markdown",
   "metadata": {},
   "source": [
    "We will not cover other types of variables in this tutorial. For more information, you can check out resources here:  \n",
    "https://www.edureka.co/blog/variables-and-data-types-in-python/#9"
   ]
  },
  {
   "cell_type": "markdown",
   "metadata": {},
   "source": [
    "### Using functions\n",
    "We can use *functions* to perform more complex operations. Functions specify a transformation from one or more inputs (called *arguments* or *parameters*) to one or more outputs (or *return values*). We have already used some built-in functions above (e.g., `.split()`).\n",
    "\n",
    "You *call* a function by writing its name followed by parentheses, with any arguments going inside the parentheses.   \n",
    "There are some basic mathematical functions built into Python that operate on numbers:\n",
    "\n",
    "Python built-in functions: https://docs.python.org/3/library/functions.html"
   ]
  },
  {
   "cell_type": "code",
   "execution_count": null,
   "metadata": {},
   "outputs": [],
   "source": [
    "abs(-10)\n",
    "round(4.5)\n",
    "sum([1,2,3,4,5,6])"
   ]
  },
  {
   "cell_type": "code",
   "execution_count": null,
   "metadata": {},
   "outputs": [],
   "source": [
    "# Create vectors for the forecasted high temperatures for San Francisco \n",
    "# and Palo Alto over the next week:\n",
    "paloalto_highs = [73, 81, 88, 84, 79, 75, 74]\n",
    "sf_highs = [70, 75, 85, 79, 72, 67, 71]\n",
    "print(paloalto_highs)\n",
    "print(sf_highs)"
   ]
  },
  {
   "cell_type": "markdown",
   "metadata": {},
   "source": [
    "Now we can do things like look at each vector's `len()`, its `max()` or `min()` values, or its `count()`."
   ]
  },
  {
   "cell_type": "code",
   "execution_count": null,
   "metadata": {},
   "outputs": [],
   "source": [
    "# APPLY YOUR KNOWLEDGE:\n",
    "# 1) Find the maximum values for these vectors.\n",
    "# 2) Find the length of the vectors. What does the length refer to? \n",
    "\n",
    "\n",
    "\n"
   ]
  },
  {
   "cell_type": "markdown",
   "metadata": {},
   "source": [
    "Not all functionality available comes automatically when starting Python, but we can add extra functionality by importing modules (You need to install them first! Please check out the Setup slides). Python provides a much cleaner way to import functions from libraries. Let's say that we want to import the ```floor``` function from the *math* library, which return largest integer value less than or equal to x.  We do this using the ```import``` statement. There are two ways to go about this. One is to import the library as a whole, and then refer explicitly to the function as part of the library:"
   ]
  },
  {
   "cell_type": "code",
   "execution_count": null,
   "metadata": {},
   "outputs": [],
   "source": [
    "import math\n",
    "from math import floor"
   ]
  },
  {
   "cell_type": "code",
   "execution_count": null,
   "metadata": {},
   "outputs": [],
   "source": [
    "math.floor(3.31)"
   ]
  },
  {
   "cell_type": "code",
   "execution_count": null,
   "metadata": {},
   "outputs": [],
   "source": [
    "floor(3.331)"
   ]
  },
  {
   "cell_type": "markdown",
   "metadata": {},
   "source": [
    "The first method may be better since it is clearer where the function is coming from, but sometimes it can get a bit unwieldy if the functions are defined deep within a library (as we will see later).\n",
    "\n",
    "\n",
    "It is possible to import all functions from a library, using ```from <library> import *```.  However, **you should never do this**.  It is bad form because then you have no idea where a particular function is coming from.\n",
    "In addition, you can use `import...as` to define a name or names of the module in the local namespace."
   ]
  },
  {
   "cell_type": "code",
   "execution_count": null,
   "metadata": {},
   "outputs": [],
   "source": [
    "import math as mt\n",
    "mt.floor(4.56)"
   ]
  },
  {
   "cell_type": "markdown",
   "metadata": {},
   "source": [
    "Some useful libraries that we will use in this tutorial: \n",
    "* NumPy: numpy is the fundamental library for scientific coumputing with Python\n",
    "* Pandas: pandas is a Python library providing high-perofrmance, easy-touse data structures and data analysis tools (we will use Pandas in module01-03)\n",
    "* SciPy: SciPy is a library of algorithms and mathematical tools built to work with Numpy arryas\n",
    "* Seaborn: seaborn is a visualization library based on `matplotlib`"
   ]
  },
  {
   "cell_type": "markdown",
   "metadata": {},
   "source": [
    "We can also define our own function using `def`. Here is an example of a function called `fahr_to_celsius` that that converts temperatures from Fahrenheit to Celsius."
   ]
  },
  {
   "cell_type": "code",
   "execution_count": null,
   "metadata": {},
   "outputs": [],
   "source": [
    "def fahr_to_celsius(temp):\n",
    "    return((temp-32)*5/9)\n",
    "    "
   ]
  },
  {
   "cell_type": "markdown",
   "metadata": {},
   "source": [
    "The function definition opens with the keyword `def` followed by the name of the function (`fahr_to_celsius`) and a parenthesized list of parameter names (temp). The body of the function — the statements that are executed when it runs — is indented below the definition line (We will talk about indentation in Python in the next module!). The body concludes with a `return` keyword followed by the return value.   \n",
    "When we call the function, the values we pass to it are assigned to those variables so that we can use them inside the function. Inside the function, we use a return statement to send a result back to whoever asked for it."
   ]
  },
  {
   "cell_type": "code",
   "execution_count": null,
   "metadata": {},
   "outputs": [],
   "source": [
    "fahr_to_celsius(75)"
   ]
  },
  {
   "cell_type": "code",
   "execution_count": null,
   "metadata": {},
   "outputs": [],
   "source": [
    "##Apply your knowledge\n",
    "#1 inch = 2.54 cm\n",
    "#can you write a function to convert 25 inches to cm?\n",
    "\n",
    "\n",
    "\n",
    "\n",
    "\n",
    "\n"
   ]
  },
  {
   "cell_type": "markdown",
   "metadata": {},
   "source": [
    "# Resources  \n",
    "For Python there is an official set of recommendations regarding programming style. You can find it at https://www.python.org/dev/peps/pep-0008/.  Learning good style from the beginning will make your code much more readable - both for others, and for your future self!\n",
    "\n",
    "Russ Poldrack's PythonForRUsers tutorials: https://github.com/poldrack/PythonForRUsers  \n",
    "Jupyter notebook: https://jupyter-notebook.readthedocs.io/en/latest/notebook.html  \n",
    "R bootcamp materials: https://github.com/jackie-schwartz/New-Student-R-Bootcamp/blob/master/module1_2019-20.Rmd  \n",
    "Other online resources:  \n",
    "- https://www.w3schools.com/  \n",
    "- https://medium.com/datadriveninvestor/mutable-and-immutable-python-2093deeac8d9  \n",
    "- https://github.com/kuleshov/cs228-material/blob/master/tutorials/python/cs228-python-tutorial.ipynb\n",
    "- https://cs231n.github.io/python-numpy-tutorial/#numpy"
   ]
  }
 ],
 "metadata": {
  "kernelspec": {
   "display_name": "Python 3 (ipykernel)",
   "language": "python",
   "name": "python3"
  },
  "language_info": {
   "codemirror_mode": {
    "name": "ipython",
    "version": 3
   },
   "file_extension": ".py",
   "mimetype": "text/x-python",
   "name": "python",
   "nbconvert_exporter": "python",
   "pygments_lexer": "ipython3",
   "version": "3.10.13"
  },
  "vscode": {
   "interpreter": {
    "hash": "31f2aee4e71d21fbe5cf8b01ff0e069b9275f58929596ceb00d14d90e3e16cd6"
   }
  }
 },
 "nbformat": 4,
 "nbformat_minor": 4
}
