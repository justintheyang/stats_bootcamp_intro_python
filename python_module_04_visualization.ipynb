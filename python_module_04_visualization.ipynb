{
 "cells": [
  {
   "cell_type": "markdown",
   "metadata": {},
   "source": [
    "\n",
    "# Fundamental Python - Visualization\n",
    "This tutorial is based on Russ Poldrack's [PythonForRUsers](https://github.com/poldrack/PythonForRUsers) tutorials and is adpated to a Python-only tutorial by Shao-Fang Wang (2020).  \n",
    "\n",
    "Many people have contributed to developing and revising the R tutorial material (which is what this Python tutorial is based on) over the years: \n",
    "Anna Khazenzon, Cayce Hook, Paul Thibodeau, Mike Frank, Benoit Monin, Ewart Thomas, Michael Waskom, Steph Gagnon, Dan Birman, Natalia Velez, Kara Weisman, Andrew Lampinen, Joshua Morris, Yochai Shavit, Jackie Schwartz, Arielle Keller, and Leili Mortazavi.   \n",
    "\n",
    "## Why visualize data?\n",
    "The greatest value of a picture is when it forces us to notice what we never expected to see. — John Tukey    "
   ]
  },
  {
   "cell_type": "code",
   "execution_count": null,
   "metadata": {},
   "outputs": [],
   "source": [
    "from IPython.display import Image\n",
    "Image(filename='./figures/anscombe.png') "
   ]
  },
  {
   "cell_type": "markdown",
   "metadata": {},
   "source": [
    "Anscombe’s quartet in the figure above (left side) illustrates the importance of visualizing data. Even though the datasets I-IV have the same summary statistics (mean, standard deviation, correlation), they are importantly different from each other. On the right side, we have four data sets with the same summary statistics that are very similar to each other."
   ]
  },
  {
   "cell_type": "markdown",
   "metadata": {},
   "source": [
    "We will use Python's and [`matplotlib`](https://matplotlib.org/) and [`seaborn`](https://seaborn.pydata.org/index.html) libraries for plotting. Seaborn is a library for making statistical graphics in Python. It is built on top of ```matplotlib``` and closely integrated with ```pandas``` data structures. Let's import the libraries!"
   ]
  },
  {
   "cell_type": "code",
   "execution_count": null,
   "metadata": {},
   "outputs": [],
   "source": [
    "import matplotlib.pyplot as plt\n",
    "import matplotlib\n",
    "#matplotlib.use(\"TkAgg\")\n",
    "import seaborn as sns\n",
    "import pandas as pd\n",
    "import numpy as np\n",
    "\n",
    "# this is necessary to fix a bad interaction on Mac systems\n",
    "# per: https://github.com/openai/spinningup/issues/16\n",
    "#import os\n",
    "#os.environ['KMP_DUPLICATE_LIB_OK']='True'"
   ]
  },
  {
   "cell_type": "markdown",
   "metadata": {},
   "source": [
    "First let's load the UH2 data files and merge them."
   ]
  },
  {
   "cell_type": "code",
   "execution_count": null,
   "metadata": {
    "scrolled": true
   },
   "outputs": [],
   "source": [
    "data = pd.read_csv('./data/meaningful_variables_clean.csv', index_col=0)\n",
    "demogdata = pd.read_csv('./data/demographics.csv', index_col=0)\n",
    "mean_results = pd.read_csv('./data/arrest_ssrt_impulsivity.csv', index_col=0)\n",
    "df = data.join(\n",
    "    demogdata, how='inner').join(\n",
    "        mean_results, how='inner').dropna(\n",
    "            subset=['ArrestedChargedLifeCount',\n",
    "                   'TrafficTicketsLastYearCount'])\n",
    "df.head()"
   ]
  },
  {
   "cell_type": "markdown",
   "metadata": {},
   "source": [
    "## Scatter plots\n",
    "\n",
    "First let's create a scatter plot showing mean SSRT versus mean impulsivity scores. "
   ]
  },
  {
   "cell_type": "markdown",
   "metadata": {},
   "source": [
    "We can use `.scatterplot` in Seaborn: x,y- input data variables. We can pass data directly or reference columns in data."
   ]
  },
  {
   "cell_type": "code",
   "execution_count": null,
   "metadata": {
    "scrolled": true,
    "tags": []
   },
   "outputs": [],
   "source": [
    "plt.figure(figsize=(8,8))#define figure size\n",
    "ax = sns.scatterplot(x='mean_SSRT',\n",
    "                         y='mean_impulsivity',\n",
    "                         data=df)\n"
   ]
  },
  {
   "cell_type": "markdown",
   "metadata": {},
   "source": [
    "Now let's say that you want to generate a version of this plot that colors the points by whether the person has ever been arrested or not, and plot the size as the number of times arrested. In Seaborn we would do this using the ```hue``` and ```size``` arguments:"
   ]
  },
  {
   "cell_type": "code",
   "execution_count": null,
   "metadata": {},
   "outputs": [],
   "source": [
    "plt.figure(figsize=(8,8))\n",
    "ax = sns.scatterplot(x='mean_SSRT',\n",
    "                         y='mean_impulsivity',\n",
    "                         hue='EverArrested',\n",
    "                         size='ArrestedChargedLifeCount',\n",
    "                         data=df)\n"
   ]
  },
  {
   "cell_type": "markdown",
   "metadata": {},
   "source": [
    "Finally, we may want to change the x and y axis label and add a title to the plot. We will use ```.set()```:"
   ]
  },
  {
   "cell_type": "code",
   "execution_count": null,
   "metadata": {},
   "outputs": [],
   "source": [
    "plt.figure(figsize=(8,8))\n",
    "ax = sns.scatterplot(x='mean_SSRT',\n",
    "                         y='mean_impulsivity',\n",
    "                         hue='EverArrested',\n",
    "                         size='ArrestedChargedLifeCount',\n",
    "                         data=df)\n",
    "ax.set(xlabel='Mean Impulsivity', ylabel='Mean SSRT', title = \"Impulsitivty and SSRT\")"
   ]
  },
  {
   "cell_type": "markdown",
   "metadata": {},
   "source": [
    "We can also change the aesthetic style of the plots by adding `set_style()`. This will affect things like color of the axes, whether a grad is enable by default, and other aesthetic elements."
   ]
  },
  {
   "cell_type": "code",
   "execution_count": null,
   "metadata": {},
   "outputs": [],
   "source": [
    "plt.figure(figsize=(8,8))\n",
    "sns.set_style('whitegrid')#here we use the tyle 'whitegrid'\n",
    "ax = sns.scatterplot(x='mean_SSRT',\n",
    "                         y='mean_impulsivity',\n",
    "                         hue='EverArrested',\n",
    "                         size='ArrestedChargedLifeCount',\n",
    "                         data=df)\n",
    "ax.set(xlabel='Mean Impulsivity', ylabel='Mean SSRT', title = \"Impulsitivty and SSRT\")"
   ]
  },
  {
   "cell_type": "code",
   "execution_count": null,
   "metadata": {},
   "outputs": [],
   "source": [
    "plt.figure(figsize=(8,8))\n",
    "sns.set_style('darkgrid')#here we use the tyle 'darkgrid'\n",
    "ax = sns.scatterplot(x='mean_SSRT',\n",
    "                         y='mean_impulsivity',\n",
    "                         hue='EverArrested',\n",
    "                         size='ArrestedChargedLifeCount',\n",
    "                         data=df)\n",
    "ax.set(xlabel='Mean Impulsivity', ylabel='Mean SSRT', title = \"Impulsitivty and SSRT\")"
   ]
  },
  {
   "cell_type": "markdown",
   "metadata": {},
   "source": [
    "To explore more themes: https://python-graph-gallery.com/104-seaborn-themes/"
   ]
  },
  {
   "cell_type": "markdown",
   "metadata": {},
   "source": [
    "## Visualizing categorical variables\n",
    "For quantitative data, we can use box plots to compare data distribution between variables or across levels of a categorical variable. We can use `.boxplot()` to plot mean impulsivity for each of the groups in motivation for participation:"
   ]
  },
  {
   "cell_type": "code",
   "execution_count": null,
   "metadata": {},
   "outputs": [],
   "source": [
    "plt.figure(figsize=(8,8))\n",
    "sns.set_style(\"whitegrid\")\n",
    "sns.boxplot(x='MotivationForParticipation',\n",
    "                y='mean_impulsivity',\n",
    "                data = df)"
   ]
  },
  {
   "cell_type": "markdown",
   "metadata": {},
   "source": [
    "Another way to visualize quantitative data is to use bar graph (```.barplot()```). Here, the error bar is 95% cinfidence interval."
   ]
  },
  {
   "cell_type": "code",
   "execution_count": null,
   "metadata": {},
   "outputs": [],
   "source": [
    "plt.figure(figsize=(8,8))\n",
    "sns.set_style(\"whitegrid\")\n",
    "sns.barplot(x='MotivationForParticipation',\n",
    "                y='mean_impulsivity',\n",
    "                n_boot=100,\n",
    "                ci = 95,\n",
    "                data = df)"
   ]
  },
  {
   "cell_type": "code",
   "execution_count": null,
   "metadata": {},
   "outputs": [],
   "source": [
    "##Apply your knowledge\n",
    "#Plot mean impulsivity for each group in the gambling problem using boxplot and barplot\n",
    "\n",
    "\n",
    "\n",
    "\n",
    "\n",
    "\n",
    "\n"
   ]
  },
  {
   "cell_type": "markdown",
   "metadata": {},
   "source": [
    "## Visualizing libear relationships\n",
    "\n",
    "TTwo main functions in seaborn are used to visualize a linear relationship as determined through regression. These functions, ```regplot()``` and ```lmplot()``` are closely related, and share much of their core functionality. It is important to understand the ways they differ so that you can quickly choose the correct tool for particular job.\n",
    "\n",
    "\n",
    "\n",
    "It appears that there is a realtionship between impulsivity and arrests (and in fact our earlier analyses of these data also showed that). We can use ```lmplot()``` to draw a scatterplot of two variables and then fit the regression model y~x and plot the resulting regression line and a 95% confidence interval for that regression:"
   ]
  },
  {
   "cell_type": "code",
   "execution_count": null,
   "metadata": {},
   "outputs": [],
   "source": [
    "plt.figure(figsize=(8,8))\n",
    "sns.set_style('darkgrid')\n",
    "ax = sns.lmplot(x='ArrestedChargedLifeCount',\n",
    "                    y='mean_impulsivity',\n",
    "                    data=df)\n"
   ]
  },
  {
   "cell_type": "markdown",
   "metadata": {},
   "source": [
    "Here we can see that when x is discrete values, the data points overlap with one another. To visualize the data points better, one option is to add some random noise (“jitter”) to the discrete values to make the distribution of those values more clear. Note that jitter is applied only to the scatterplot data and does not influence the regression line fit itself:"
   ]
  },
  {
   "cell_type": "code",
   "execution_count": null,
   "metadata": {},
   "outputs": [],
   "source": [
    "plt.figure(figsize=(8,8))\n",
    "sns.set_style('darkgrid')\n",
    "ax = sns.lmplot(x='ArrestedChargedLifeCount',\n",
    "                    y='mean_impulsivity',\n",
    "                    x_jitter = 0.1,\n",
    "                    data=df)\n"
   ]
  },
  {
   "cell_type": "markdown",
   "metadata": {},
   "source": [
    "Sometimes, the relationship between variables is non-linear:"
   ]
  },
  {
   "cell_type": "code",
   "execution_count": null,
   "metadata": {},
   "outputs": [],
   "source": [
    "df_poly=pd.DataFrame()\n",
    "df_poly['x']=np.random.randint(1,100,size = 300)\n",
    "df_poly['y']=np.random.randint(10,40,size = 300)\n",
    "df_poly['z']=df_poly['x']**2*df_poly['y']\n",
    "df_poly.head()"
   ]
  },
  {
   "cell_type": "code",
   "execution_count": null,
   "metadata": {},
   "outputs": [],
   "source": [
    "plt.figure(figsize=(8,8))\n",
    "sns.set_style('darkgrid')\n",
    "ax = sns.lmplot(x='x',\n",
    "                    y='z',\n",
    "                    data=df_poly)\n"
   ]
  },
  {
   "cell_type": "code",
   "execution_count": null,
   "metadata": {},
   "outputs": [],
   "source": [
    "#we can use order to estimate a polynomial regression\n",
    "plt.figure(figsize=(8,8))\n",
    "sns.set_style('darkgrid')\n",
    "ax = sns.lmplot(x='x',\n",
    "                    y='z',\n",
    "                    order = 2,\n",
    "                    line_kws={'color': 'black'},#change the color of the line\n",
    "                    data=df_poly)\n"
   ]
  },
  {
   "cell_type": "markdown",
   "metadata": {},
   "source": [
    "## Resources\n",
    "Seaborn styles: http://seaborn.pydata.org/tutorial/aesthetics.html"
   ]
  }
 ],
 "metadata": {
  "kernelspec": {
   "display_name": "Python 3 (ipykernel)",
   "language": "python",
   "name": "python3"
  },
  "language_info": {
   "codemirror_mode": {
    "name": "ipython",
    "version": 3
   },
   "file_extension": ".py",
   "mimetype": "text/x-python",
   "name": "python",
   "nbconvert_exporter": "python",
   "pygments_lexer": "ipython3",
   "version": "3.10.13"
  }
 },
 "nbformat": 4,
 "nbformat_minor": 4
}
