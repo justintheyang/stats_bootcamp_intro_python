{
 "cells": [
  {
   "cell_type": "markdown",
   "metadata": {},
   "source": [
    "# Fundamental Python - Control structures\n",
    "\n",
    "This tutorial is based on Russ Poldrack's [PythonForRUsers](https://github.com/poldrack/PythonForRUsers) tutorials and is adpated to a Python-only tutorial by Shao-Fang Wang (2020) and updated by Ben Prystawski (2022).  \n",
    "\n",
    "Many people have contributed to developing and revising the R tutorial material (which is what this Python tutorial is based on) over the years: \n",
    "Anna Khazenzon, Cayce Hook, Paul Thibodeau, Mike Frank, Benoit Monin, Ewart Thomas, Michael Waskom, Steph Gagnon, Dan Birman, Natalia Velez, Kara Weisman, Andrew Lampinen, Joshua Morris, Yochai Shavit, Jackie Schwartz, Arielle Keller, and Leili Mortazavi.   "
   ]
  },
  {
   "cell_type": "markdown",
   "metadata": {},
   "source": [
    "# Control statements\n",
    "Control statements are ways for a programmer to control what pieces of the program are to be executed at certain times.\n",
    "* **Iteration statements**: these statements repeat some processes cyclically until the condition that limits the execution cycle becomes false or they are executed for all values of the same data. \n",
    "    - for\n",
    "    - while\n",
    "\n",
    "* **Conditional statements**: these statements serve to branch out the process of the program\n",
    "    - if\n",
    "\n",
    "\n",
    "### for loop\n",
    "A loop that is executed once for each value in some kind of set, list, or range. A for loop tells Python to execute some statements once for each value in a list, a character string, or some other collection.\n",
    "* The first line of the `for` loop must end with a colon\n",
    "* The body must be indented. "
   ]
  },
  {
   "cell_type": "code",
   "execution_count": null,
   "metadata": {},
   "outputs": [],
   "source": [
    "group = [1,2,3,4,58,9,10] # a colletion that the loop is being run on\n",
    "group2 = [] # create an empty list\n",
    "for ig in group:#ig: what changes for each iteration of the loop\n",
    "    temp = ig**2#operation: each value - 1\n",
    "    group2.append(temp)#operation: append the value to the list\n",
    "\n",
    "print(group2)# this is not in the for loop (**indentation**)"
   ]
  },
  {
   "cell_type": "markdown",
   "metadata": {},
   "source": [
    "**Indentation**  \n",
    "W h i t e s p a c e is meaningful in Python. For example, you use a newline to end a line of code. If you want to continue a line of code into the next line of text, use a backlash (`\\`). For control statements, indentation determines boundaries of blocks of code: code with the same indentation is executed together. For example, in the for loop, the block of codes after the `for` statement needs to be indented. They will be executed together. If the spacing doesn't match exactly, then the code will fail. In general, indentation by 4 spaces (use tab!) is preferred."
   ]
  },
  {
   "cell_type": "markdown",
   "metadata": {},
   "source": [
    "We can use a built-in function `range()` to generate a series of numbers within a particular range: range(N) is the numbers 0..N-1. Here is a simple example:"
   ]
  },
  {
   "cell_type": "code",
   "execution_count": null,
   "metadata": {},
   "outputs": [],
   "source": [
    "for j in range(4):\n",
    "    print(j)"
   ]
  },
  {
   "cell_type": "code",
   "execution_count": null,
   "metadata": {},
   "outputs": [],
   "source": [
    "# try indenting the print statement below. What happens differently? Why?\n",
    "lst = []\n",
    "for i in range(5):\n",
    "    lst.append(i)\n",
    "print(sum(lst))"
   ]
  },
  {
   "cell_type": "markdown",
   "metadata": {},
   "source": [
    "You can also define a start integer and end integer of your range and incrementation (default is 1): `range(start, stop, step)`. One limitation is that `range()` only works for integer step sizes.\n"
   ]
  },
  {
   "cell_type": "code",
   "execution_count": null,
   "metadata": {},
   "outputs": [],
   "source": [
    "# Apply your knowledge\n",
    "# what is the sum of all the even numbers smaller than 1000?\n",
    "# hint: create an empty list to save all the even numbers that are less than 1000. \n",
    "\n",
    "\n",
    "\n",
    "\n",
    "\n"
   ]
  },
  {
   "cell_type": "markdown",
   "metadata": {},
   "source": [
    "**list comprehensions**  \n",
    "List comprehensions is a convenient way of generating lists. Instead of creating an empty list and adding each element to the empty list one by one, here, we define the list and its contents using one line of code: new_list = [expression for memory in iterable].  "
   ]
  },
  {
   "cell_type": "code",
   "execution_count": null,
   "metadata": {},
   "outputs": [],
   "source": [
    "group3 = [ig**2 for ig in group]\n",
    "\n",
    "print(group3)\n",
    "print(group2)"
   ]
  },
  {
   "cell_type": "code",
   "execution_count": null,
   "metadata": {},
   "outputs": [],
   "source": [
    "# Apply your knowledge\n",
    "# what is the sum of all the even numbers smaller than 1000?\n",
    "# use list comprehensions to write one line of code \n",
    "\n",
    "\n",
    "\n"
   ]
  },
  {
   "cell_type": "markdown",
   "metadata": {},
   "source": [
    "Adventages of using list comprehensions:  \n",
    "* concise code: reduce lines of code\n",
    "* more efficient: Python will allocate the list's memory first before adding the elements to it (avoiding resize on runtime)"
   ]
  },
  {
   "cell_type": "code",
   "execution_count": null,
   "metadata": {},
   "outputs": [],
   "source": [
    "import time \n",
    "def square_sum_for():#We can define our own function using the `def` keyword\n",
    "    new_list = []\n",
    "    for i in range(10000):\n",
    "        new_list.append(i*i)\n",
    "    return(sum(new_list))\n",
    "        \n",
    "def square_sum_list():\n",
    "    new_list = [i*i for i in range(10000)]\n",
    "    return(sum(new_list))\n",
    "\n",
    "    \n",
    "def benchmark(function):\n",
    "    start = time.time()\n",
    "    function()\n",
    "    end = time.time()\n",
    "    return(end-start)\n",
    "    "
   ]
  },
  {
   "cell_type": "code",
   "execution_count": null,
   "metadata": {},
   "outputs": [],
   "source": [
    "#save x% of time\n",
    "100-(benchmark(square_sum_list)/benchmark(square_sum_for))*100"
   ]
  },
  {
   "cell_type": "markdown",
   "metadata": {},
   "source": [
    "#### Nested Loops\n",
    "\n",
    "We can also easily nest loops within one another, using additional indentation for each level of the loop. The \"inner loop\" will be executed one time for each iteration of the \"outer loop\"."
   ]
  },
  {
   "cell_type": "code",
   "execution_count": null,
   "metadata": {},
   "outputs": [],
   "source": [
    "adj = [\"red\", \"big\", \"tasty\",\"\"]\n",
    "fruits = [\"apple\", \"banana\", \"cherry\",\"strawberry\"]\n",
    "for x in adj:\n",
    "    for y in fruits:\n",
    "        print(x, y)"
   ]
  },
  {
   "cell_type": "markdown",
   "metadata": {},
   "source": [
    "#### enumerate\n",
    "`enumerate` is a built-in function of Python which adds counter to an iterable and returns it. `enumerate` allows us to loop over something and have an automatic counter."
   ]
  },
  {
   "cell_type": "code",
   "execution_count": null,
   "metadata": {},
   "outputs": [],
   "source": [
    "print(list(enumerate(fruits)))"
   ]
  },
  {
   "cell_type": "code",
   "execution_count": null,
   "metadata": {},
   "outputs": [],
   "source": [
    "for counter, value in enumerate(fruits):\n",
    "    print(counter, value)"
   ]
  },
  {
   "cell_type": "markdown",
   "metadata": {},
   "source": [
    "### while loop\n",
    "A `while` loop keeps executing a set of statements as long as a condition is true. To start the `while` loop, relevant variables need to be ready.\n",
    "* First line opens with `while` and ends with a colon\n",
    "* Body containing one or more statements is indented"
   ]
  },
  {
   "cell_type": "markdown",
   "metadata": {},
   "source": [
    "Print i till i is less than 6:"
   ]
  },
  {
   "cell_type": "code",
   "execution_count": null,
   "metadata": {},
   "outputs": [],
   "source": [
    "i = 1 # we need to define i for the while loop to be able to start\n",
    "while i < 6: # define the condtion\n",
    "    i = i+1\n",
    "    print(i)\n",
    "\n"
   ]
  },
  {
   "cell_type": "code",
   "execution_count": null,
   "metadata": {},
   "outputs": [],
   "source": [
    "# Apply your knowledge\n",
    "# add natural numbers up to n: sum= 1+2+3+...+n\n",
    "n = 189\n",
    "\n",
    "\n",
    "\n",
    "\n",
    "\n",
    "\n",
    "\n",
    "\n"
   ]
  },
  {
   "cell_type": "markdown",
   "metadata": {},
   "source": [
    "### if & else\n",
    "An `if` statement controls whether some block of code is executed or not.\n",
    "* The first line opens with `if` and ends with a colon\n",
    "* Body containing one or more statements is indented \n",
    "\n",
    "`else` can be used following an `if` to specify an alternative to execute when the `if` branch isn't taken."
   ]
  },
  {
   "cell_type": "code",
   "execution_count": null,
   "metadata": {},
   "outputs": [],
   "source": [
    "test = 96\n",
    "threshold = 100\n",
    "\n",
    "\n",
    "if test > threshold:\n",
    "    print(test, 'is above threshold')\n",
    "else:\n",
    "    print(test, 'is below threshold')\n"
   ]
  },
  {
   "cell_type": "code",
   "execution_count": null,
   "metadata": {},
   "outputs": [],
   "source": [
    "# Apply your knowledge\n",
    "# combine if and for loop\n",
    "# separate the values into two groups - above and below certain threshold\n",
    "values = [20,64,37,33,12,111,59,51,15,99,148,25,58,71,144,141,66,30,105,46,72]\n",
    "above = []\n",
    "below = []\n"
   ]
  },
  {
   "cell_type": "code",
   "execution_count": null,
   "metadata": {},
   "outputs": [],
   "source": [
    "# Apply your knowledge\n",
    "# use enumerate and if to find the position of the number that is above the threshold\n",
    "position = []\n",
    "\n"
   ]
  },
  {
   "cell_type": "markdown",
   "metadata": {},
   "source": [
    "**logical operators**  \n",
    "There are three logical boolean operations that are used to compare values. \n",
    "* or\n",
    "* and\n",
    "* not"
   ]
  },
  {
   "cell_type": "code",
   "execution_count": null,
   "metadata": {},
   "outputs": [],
   "source": [
    "for x in range(100):\n",
    "    for y in range(50):\n",
    "        if x <50 and y>20:\n",
    "            print(x+y)\n",
    "        if x >90 or y>40:\n",
    "            print('or')\n",
    " "
   ]
  },
  {
   "cell_type": "markdown",
   "metadata": {},
   "source": [
    "#### Alter the flow of a normal loop\n",
    "Sometimes we wish to terminate the current iteration or the whole loop without checking the test expression.  \n",
    "**break**  \n",
    "With the `break` statement we can stop the loop even if the condition is true:"
   ]
  },
  {
   "cell_type": "code",
   "execution_count": null,
   "metadata": {},
   "outputs": [],
   "source": [
    "for letter in 'Python':     # First Example\n",
    "    if letter == 'h':\n",
    "        break\n",
    "    print(letter)"
   ]
  },
  {
   "cell_type": "markdown",
   "metadata": {},
   "source": [
    "**continue**  \n",
    "With the `continue` statement we can stop the current iteration, and continue with the next:\n",
    "\n",
    "The Python continue statement immediately terminates the current loop iteration."
   ]
  },
  {
   "cell_type": "code",
   "execution_count": null,
   "metadata": {},
   "outputs": [],
   "source": [
    "for letter in 'Python':     # First Example\n",
    "    if letter == 'h':\n",
    "        continue\n",
    "    print(letter)\n",
    "    "
   ]
  },
  {
   "cell_type": "code",
   "execution_count": null,
   "metadata": {},
   "outputs": [],
   "source": [
    "# Apply your knowledge\n",
    "# 1) use break to find the first prime number between 14 and 100\n",
    "\n",
    "\n",
    "\n",
    "\n",
    "#2) use continue to find all the prime numbers between 14 and 100\n",
    "\n",
    "\n",
    "\n",
    "\n"
   ]
  },
  {
   "cell_type": "code",
   "execution_count": null,
   "metadata": {},
   "outputs": [],
   "source": [
    "# Prime number\n",
    "num = 30 # test number\n",
    "\n",
    "\n",
    "if num >2:\n",
    "    for x in range(2,num):\n",
    "        if (num % x) == 0:\n",
    "            print(num,\"is not a prime number\")\n",
    "            break\n",
    "\n",
    "else:\n",
    "    if num ==2:\n",
    "        print(num,\"is a prime number\")\n",
    "    else:\n",
    "        print(num,\"is not a prime number\")\n",
    "    "
   ]
  },
  {
   "cell_type": "code",
   "execution_count": null,
   "metadata": {},
   "outputs": [],
   "source": [
    "# Make this into a function\n",
    "\n",
    "def prime_num(num):\n",
    "    if num >2:\n",
    "        for x in range(2,num):\n",
    "            if (num % x) == 0:\n",
    "                \n",
    "                return False\n",
    "                break\n",
    "        \n",
    "        return True\n",
    "\n",
    "    else:\n",
    "        if num ==2:\n",
    "            \n",
    "            return True\n",
    "        else:\n",
    "           \n",
    "            return False\n",
    "    "
   ]
  },
  {
   "cell_type": "markdown",
   "metadata": {},
   "source": [
    "## Resources:\n",
    " \n",
    "http://swcarpentry.github.io/python-novice-gapminder/12-for-loops/index.html  \n",
    "http://swcarpentry.github.io/python-novice-gapminder/13-conditionals/index.html  \n",
    "https://towardsdatascience.com/how-list-comprehensions-can-help-your-code-look-better-and-run-smoother-3cf8f87172ae  "
   ]
  },
  {
   "cell_type": "code",
   "execution_count": null,
   "metadata": {},
   "outputs": [],
   "source": []
  }
 ],
 "metadata": {
  "kernelspec": {
   "display_name": "Python 3 (ipykernel)",
   "language": "python",
   "name": "python3"
  },
  "language_info": {
   "codemirror_mode": {
    "name": "ipython",
    "version": 3
   },
   "file_extension": ".py",
   "mimetype": "text/x-python",
   "name": "python",
   "nbconvert_exporter": "python",
   "pygments_lexer": "ipython3",
   "version": "3.10.13"
  }
 },
 "nbformat": 4,
 "nbformat_minor": 4
}
